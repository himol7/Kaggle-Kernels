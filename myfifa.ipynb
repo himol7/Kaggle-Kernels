{
  "cells": [
    {
      "metadata": {
        "_uuid": "8f2839f25d086af736a60e9eeb907d3b93b6e0e5",
        "_cell_guid": "b1076dfc-b9ad-4769-8c92-a6c4dae69d19",
        "trusted": true,
        "collapsed": true
      },
      "cell_type": "markdown",
      "source": "# **Goal: Classify weather or not a team player wins MotM Award.**"
    },
    {
      "metadata": {
        "_uuid": "19c86ea96978dfb1e821072b1faaf6446de1accc"
      },
      "cell_type": "markdown",
      "source": "![https://imgur.com/a/MJAaE7W](http://)"
    },
    {
      "metadata": {
        "_uuid": "6a648f2d28b463a597c138f07a18e2c1e9e2efbf"
      },
      "cell_type": "markdown",
      "source": "**Index:** <br>\n<br>\n**1. Exploratory Data Analysis <br>**\n        a. Feature Engineering <br>\n        b. Graphs <br>\n\n**2. Data Organising** <br>\n        a. Dealing with Null Values <br>\n        b. Dealing with Categorical Variables <br>\n    \n**3. Feature Importance Calculation** <br>\n        a. XGBoost <br>\n        b. LGBM <br>\n        c. Extra Trees Classifier <br>\n    \n** 4. Training and Classification** <br>\n        a. Support Vector Machine (RBF Kernel) <br>\n        b. Linear Regression <br>\n        c. Random Forests Classifier <br>"
    },
    {
      "metadata": {
        "trusted": true,
        "_uuid": "bdd25ae580a8e7f4bd2903e7132f266c2c71e30c"
      },
      "cell_type": "code",
      "source": "import pandas as pd\nimport numpy as np\nimport seaborn as sns\nsns.set(style = \"whitegrid\")\nimport matplotlib.pyplot as plt\nfrom sklearn.model_selection import train_test_split\nfrom sklearn.metrics import accuracy_score\nfrom sklearn.preprocessing import LabelEncoder\n\nfrom xgboost import XGBClassifier\nfrom lightgbm import LGBMClassifier\nfrom sklearn.ensemble import ExtraTreesClassifier\n\nfrom sklearn import svm\nfrom sklearn import linear_model\nfrom sklearn.ensemble import RandomForestClassifier\n\n%matplotlib inline",
      "execution_count": null,
      "outputs": []
    },
    {
      "metadata": {
        "_uuid": "7f2a9a16353b57f08b0f03936712fe55981108d8"
      },
      "cell_type": "markdown",
      "source": "# Exploratory Data Analysis"
    },
    {
      "metadata": {
        "_cell_guid": "79c7e3d0-c299-4dcb-8224-4455121ee9b0",
        "_uuid": "d629ff2d2480ee46fbb7e2d37f6b5fab8052498a",
        "trusted": true
      },
      "cell_type": "code",
      "source": "data = pd.read_csv(\"../input/FIFA 2018 Statistics.csv\")\ndata.shape",
      "execution_count": null,
      "outputs": []
    },
    {
      "metadata": {
        "trusted": true,
        "_uuid": "55729895ef1c9f27905b0701b6d8f3b733a7be3e"
      },
      "cell_type": "code",
      "source": "data.head(2)",
      "execution_count": null,
      "outputs": []
    },
    {
      "metadata": {
        "_uuid": "5b544c7a579a2ea2630bd3b38074b0f317bf489b"
      },
      "cell_type": "markdown",
      "source": "> # Feature Engineering"
    },
    {
      "metadata": {
        "_uuid": "aa471540b1ad4bf21def226b809bb7e1532383af"
      },
      "cell_type": "markdown",
      "source": "Creating a feature of goals conceded by a team in a match using goals scored by the opposition"
    },
    {
      "metadata": {
        "trusted": true,
        "_uuid": "9b0f2205deafca791367616e74d7da1d8015744c"
      },
      "cell_type": "code",
      "source": "gc = np.array([], dtype = 'int')\nfor i in range(0, 128, 2):\n    gc = np.append(gc, data.loc[i+1, \"Goal Scored\"])\n    gc = np.append(gc, data.loc[i, \"Goal Scored\"])\n    \ndata.insert(4, \"Goal Conceded\", pd.Series(gc))",
      "execution_count": null,
      "outputs": []
    },
    {
      "metadata": {
        "trusted": true,
        "_uuid": "b7ab733933c537a40189bf6f3ff42c4b9549ca7d"
      },
      "cell_type": "code",
      "source": "data.head(2)",
      "execution_count": null,
      "outputs": []
    },
    {
      "metadata": {
        "_uuid": "8937c3e04f96973e4421b738e09e2835f06be787"
      },
      "cell_type": "markdown",
      "source": "Creating a feature of who won the match using goals scored and goals conceded. <br> \nAttributes: Won, Lost, Draw (0, 1, 2) to keep no. of categories low "
    },
    {
      "metadata": {
        "trusted": true,
        "_uuid": "685df660f03ef1526626e0ff12397d608a1cc0bc"
      },
      "cell_type": "code",
      "source": "conditions = [(data[\"Goal Scored\"] > data[\"Goal Conceded\"]), (data[\"Goal Scored\"] == data[\"Goal Conceded\"]), (data[\"Goal Scored\"] < data[\"Goal Conceded\"])]\nresult = np.array([0, 1, 2], dtype = 'int')\ndata.insert(5, \"Result\", pd.Series(np.select(conditions, result, default = -1)))",
      "execution_count": null,
      "outputs": []
    },
    {
      "metadata": {
        "trusted": true,
        "_uuid": "b01680305da18483eb93fb85dd4bd50a23627ed8"
      },
      "cell_type": "code",
      "source": "data.head(2)",
      "execution_count": null,
      "outputs": []
    },
    {
      "metadata": {
        "trusted": true,
        "collapsed": true,
        "_uuid": "b5c1f95f6478ba5121304e7f51133c067be5dd60"
      },
      "cell_type": "markdown",
      "source": "Creating a feature of total set pieces (free kicks + corners) <br>\n(penalties ignored as information is not provided) "
    },
    {
      "metadata": {
        "trusted": true,
        "_uuid": "2ddce05a5bc18d720dcf4a2eb1b8c1b2cdd5de1e"
      },
      "cell_type": "code",
      "source": "data.insert(15, \"Total Set Pieces\", pd.Series(data[\"Corners\"] + data[\"Free Kicks\"], dtype = 'int'))\n",
      "execution_count": null,
      "outputs": []
    },
    {
      "metadata": {
        "trusted": true,
        "_uuid": "729ab571eb809c2f9f011235929a3f7250e2aa57"
      },
      "cell_type": "code",
      "source": "data.head(2)",
      "execution_count": null,
      "outputs": []
    },
    {
      "metadata": {
        "_uuid": "63ff8771a56dd0bea385762b28af6440d54ce7a6"
      },
      "cell_type": "markdown",
      "source": "> # Graphs"
    },
    {
      "metadata": {
        "_uuid": "c412280e55d3fb53980c2ecb9ec1402efb969354"
      },
      "cell_type": "markdown",
      "source": "Plot of Ball Possession vs Attempts. "
    },
    {
      "metadata": {
        "trusted": true,
        "_uuid": "17d7ee9e41604b7e9b3c17eaaf8e4912ddc1ba14"
      },
      "cell_type": "code",
      "source": "sns.lmplot(x = 'Ball Possession %', y = 'Attempts', data = data)",
      "execution_count": null,
      "outputs": []
    },
    {
      "metadata": {
        "trusted": true,
        "_uuid": "44ad9cdd6405b52ff0fece0222fe67e903aa5fc9"
      },
      "cell_type": "code",
      "source": "data[\"Ball Possession %\"].corr(data[\"Attempts\"], method = 'pearson')",
      "execution_count": null,
      "outputs": []
    },
    {
      "metadata": {
        "_uuid": "b096c2e3ada151a9bc95ec9c730b0c1e26791b93"
      },
      "cell_type": "markdown",
      "source": "It can be observed that there is a linear relation between attempts made and % ball possession. <br>\nMoreover, number of attempts tend to rise with increase in % ball possession. <br>\nCorrelation between % Ball Possession and Attempts: 0.54 (good correlation) <br>"
    },
    {
      "metadata": {
        "_uuid": "796800b486c976b3164dbfa4e931e9d95e3c2c41"
      },
      "cell_type": "markdown",
      "source": "Plot of Distance Covered vs Passes. "
    },
    {
      "metadata": {
        "trusted": true,
        "_uuid": "a2f523a88b8fb86443c356dc837a9f654fd5fa11"
      },
      "cell_type": "code",
      "source": "sns.lmplot(x = 'Passes', y = 'Distance Covered (Kms)', data = data)",
      "execution_count": null,
      "outputs": []
    },
    {
      "metadata": {
        "trusted": true,
        "_uuid": "64ac635f4340652922a81e0b6a24129e317384ed"
      },
      "cell_type": "code",
      "source": "data[\"Passes\"].corr(data[\"Distance Covered (Kms)\"], method = 'pearson')",
      "execution_count": null,
      "outputs": []
    },
    {
      "metadata": {
        "_uuid": "46486d5ccf9e0710beaaf8bf90bfa49518160a73"
      },
      "cell_type": "markdown",
      "source": "This is an interesting result. <br>\nI thought there should be a good (inverse) correlation between passes and distance covered but it is very less.  <br>\nCorrelation between Passes and Distance Covered: 0.18 <br>"
    },
    {
      "metadata": {
        "_uuid": "e6c96402fd261c12a35a8d4c762c2620ea157ce7"
      },
      "cell_type": "markdown",
      "source": "Comparison between number of set pieces for wins, losses and draws."
    },
    {
      "metadata": {
        "trusted": true,
        "_uuid": "10de9e74a7c9f5ff01c2d31efaf78d6431a625ec"
      },
      "cell_type": "code",
      "source": "sns.set_context(\"paper\")\nsns.swarmplot( x = 'Result', y = 'Total Set Pieces', data = data)",
      "execution_count": null,
      "outputs": []
    },
    {
      "metadata": {
        "_uuid": "83c2b006b1fccddcd1b8470d31a5ff59ababf136"
      },
      "cell_type": "markdown",
      "source": "This again is an corroborating conclusion. <br>\nIt was believed that this was the world cup of set pieces. <br> \nWe can observe that more number of teams tend to win given equal number of set pieces. (0 and 1 on x-axis) <br>"
    },
    {
      "metadata": {
        "_uuid": "58755728b17b9ac532ee79a9c17d49ac016f2aaf"
      },
      "cell_type": "markdown",
      "source": "# Data Organising"
    },
    {
      "metadata": {
        "_uuid": "f71a7218c69a10903d9384bd26316b17cf138e5c"
      },
      "cell_type": "markdown",
      "source": "> # Dealing with Null Values"
    },
    {
      "metadata": {
        "trusted": true,
        "_uuid": "57d1dcaa53c78d3742083b41723fea4e59d45d01"
      },
      "cell_type": "code",
      "source": "data.isna().sum()",
      "execution_count": null,
      "outputs": []
    },
    {
      "metadata": {
        "trusted": true,
        "_uuid": "caf5f2125325e99ecace34ca55ebbbe6c3c1bc69"
      },
      "cell_type": "code",
      "source": "data[['Own goals', 'Own goal Time']].head()",
      "execution_count": null,
      "outputs": []
    },
    {
      "metadata": {
        "_uuid": "8140e489f7b256fe4f1336aa9f60546e0ae2a3a0"
      },
      "cell_type": "markdown",
      "source": "As it can be seen, there were 116/2 = 58 matches in which either of the team did not score an own goal. <br>\nTherefore, I replace NaN with 0 in both the columns, as it seems to be the most logical idea."
    },
    {
      "metadata": {
        "trusted": true,
        "_uuid": "41369bb9969b6ecb4f17459801f0311594db2bca"
      },
      "cell_type": "code",
      "source": "data[['Own goals', 'Own goal Time']] = data[['Own goals', 'Own goal Time']].fillna(0)\ndata.isna().sum()",
      "execution_count": null,
      "outputs": []
    },
    {
      "metadata": {
        "trusted": true,
        "_uuid": "edb0e14943ff95ef36fc571285036a650e159adc"
      },
      "cell_type": "code",
      "source": "data[\"1st Goal\"].head()",
      "execution_count": null,
      "outputs": []
    },
    {
      "metadata": {
        "_uuid": "68429a2cc233eb0fa3eb9dd122804a34bfee6936"
      },
      "cell_type": "markdown",
      "source": "These are the matches in which one of the teams were not able to score a single score. <br>\nHere, I replace NaN with full-time minutes as replacing it with 0 will give a different inference. <br>"
    },
    {
      "metadata": {
        "trusted": true,
        "_uuid": "7cfacc494c0b4df96d7997403b945fb79c87853c"
      },
      "cell_type": "code",
      "source": "data[\"1st Goal\"] = data[\"1st Goal\"].fillna(90)\ndata.isna().sum()",
      "execution_count": null,
      "outputs": []
    },
    {
      "metadata": {
        "trusted": true,
        "collapsed": true,
        "_uuid": "069f23226e71a6fca66ca75b0001eb11e2ebbb03"
      },
      "cell_type": "markdown",
      "source": "Now there are no Null or NaN values in the dataset."
    },
    {
      "metadata": {
        "trusted": true,
        "collapsed": true,
        "_uuid": "a0f693ee6fabacb7810f9d579dad809632c8559e"
      },
      "cell_type": "markdown",
      "source": "> # Dealing with Categorical Variables"
    },
    {
      "metadata": {
        "trusted": true,
        "_uuid": "6335a5279bd51c7770012d94a94b7cd75dd0bb12"
      },
      "cell_type": "code",
      "source": "data.dtypes.unique()",
      "execution_count": null,
      "outputs": []
    },
    {
      "metadata": {
        "trusted": true,
        "collapsed": true,
        "_uuid": "31ce2c89b4835a61944d079b6210499dde2f5849"
      },
      "cell_type": "markdown",
      "source": "There are features with Object, Integer and Float datatypes. <br>\nWe need to deal with features having Object datatype. <br>"
    },
    {
      "metadata": {
        "trusted": true,
        "_uuid": "c4a4984cbd683c1f1dce6da306b4c0495b0d4230"
      },
      "cell_type": "code",
      "source": "cat = data.columns.values[data.dtypes == object]\ncat",
      "execution_count": null,
      "outputs": []
    },
    {
      "metadata": {
        "_uuid": "2d720a04e73f6ea94f8668660e0640890676fb29"
      },
      "cell_type": "markdown",
      "source": "Out of these features: <br>\n1. Date can be dropped. <br>\n2. Team and Opponent contain names of countries. <br>\n3. Man of the Match and PSO have values in Yes or No. <br>\n4. Round has 6 different values. <br>\n\nI'll deal with Team and Opponent separately."
    },
    {
      "metadata": {
        "trusted": true,
        "_uuid": "121005d4f5c6b9d2e505b7e82f968c3773f392c6"
      },
      "cell_type": "code",
      "source": "data.drop([\"Date\"], axis = 1, inplace = True)\n\ntemp = np.array(['Man of the Match', 'Round', 'PSO'])\nfor i in range(0,len(temp)):\n    x = temp[i]\n    data[x] = data[x].astype('category').cat.codes\n    \ndata.head(2)",
      "execution_count": null,
      "outputs": []
    },
    {
      "metadata": {
        "_uuid": "704fae11ea844e1c9c53e24420de815b4f112739"
      },
      "cell_type": "markdown",
      "source": "Therefore, Date is dropped. Man of the Match, Round and PSO is converted to categorical variables."
    },
    {
      "metadata": {
        "_uuid": "40f84cf43c08a089c324d7e73029c6a14d203cdc"
      },
      "cell_type": "markdown",
      "source": "For Team and Opponent, I'll first get categorical codes for all the countries and then directly assign that codes to Team and Opponent."
    },
    {
      "metadata": {
        "trusted": true,
        "_uuid": "816aaf28718435996af8accd963de00c19036a05"
      },
      "cell_type": "code",
      "source": "# I am currently working on the above mentioned approach.\n# This is a temporary solution.\n\ndata[\"Team\"] = data[\"Team\"].astype('category').cat.codes\ndata[\"Opponent\"] = data[\"Opponent\"].astype('category').cat.codes",
      "execution_count": null,
      "outputs": []
    },
    {
      "metadata": {
        "trusted": true,
        "_uuid": "11f554a33adf2d9e4119c62a696f0a5e4bb131b8"
      },
      "cell_type": "code",
      "source": "data.head()",
      "execution_count": null,
      "outputs": []
    },
    {
      "metadata": {
        "_uuid": "4d945cd515ac2e1727175a091fa027641a40eacd"
      },
      "cell_type": "markdown",
      "source": "# Now our data is clean and ready to train."
    },
    {
      "metadata": {
        "_uuid": "5b9269d6808ce6310422bba373004055e1b50675"
      },
      "cell_type": "markdown",
      "source": "# Feature Importance Calculation"
    },
    {
      "metadata": {
        "trusted": true,
        "collapsed": true,
        "_uuid": "1d327993aeb743b763604e2caca96b38898140ae"
      },
      "cell_type": "markdown",
      "source": "**I'll calculate feature importance using gradient boosting method.** <br>\n1. XGBoost Classifier\n2. Gradient Boosting Machince\n3. Extra Trees Classifier <br>\nAfter calculating feature importance using various algorithms, I'll select top 5 features consistent in each algortihm and finally train the actual model."
    },
    {
      "metadata": {
        "trusted": true,
        "_uuid": "2c9fed2e3feb8ab16532fea9432348bc2d976ba3"
      },
      "cell_type": "code",
      "source": "features = data.drop([\"Man of the Match\"], axis = 1)\ntarget = data[\"Man of the Match\"]",
      "execution_count": null,
      "outputs": []
    },
    {
      "metadata": {
        "_uuid": "b110fac013ec08ec2cbf7825d5bda22c3b978a0a"
      },
      "cell_type": "markdown",
      "source": "XGBoost Classifier"
    },
    {
      "metadata": {
        "trusted": true,
        "_uuid": "6d44183281b4c62bafaead6182af888c041764fc"
      },
      "cell_type": "code",
      "source": "modelxgb = XGBClassifier()\nmodelxgb.fit(features, target)\n\nprint(modelxgb.feature_importances_)",
      "execution_count": null,
      "outputs": []
    },
    {
      "metadata": {
        "_uuid": "fc76a8f3ebd02a61179fe32e6fe7e7e5dc2d3c42"
      },
      "cell_type": "markdown",
      "source": "Plot of F Scores (Feature Importance Scores) vs Features"
    },
    {
      "metadata": {
        "trusted": true,
        "_uuid": "4044e3473015086af69ac9d90d1ed56cf3d7b72b"
      },
      "cell_type": "code",
      "source": "from xgboost import plot_importance\nplot_importance(modelxgb)",
      "execution_count": null,
      "outputs": []
    },
    {
      "metadata": {
        "trusted": true,
        "_uuid": "3c56071a3c34da4dbcbf80f4f282873c23a48b26"
      },
      "cell_type": "code",
      "source": "f_xgb = pd.DataFrame(data = {'feature' : features.columns, 'value' : modelxgb.feature_importances_})\nf_xgb = f_xgb.sort_values(['value'], ascending = False)\ntop10xgb = f_xgb.head(10)\nplt.figure(figsize=(15,8))\nsns.barplot(x = top10xgb[\"feature\"], y = top10xgb[\"value\"])",
      "execution_count": null,
      "outputs": []
    },
    {
      "metadata": {
        "trusted": true,
        "_uuid": "24eaf8fa5246b3946e72b887f803b81963000ea5"
      },
      "cell_type": "code",
      "source": "modellgbm = LGBMClassifier()\nmodellgbm.fit(features, target)\n\nprint(modellgbm.feature_importances_)",
      "execution_count": null,
      "outputs": []
    },
    {
      "metadata": {
        "trusted": true,
        "_uuid": "7d7b266e0f7a6349dac48821b83b34e2549898bf"
      },
      "cell_type": "code",
      "source": "f_lgbm = pd.DataFrame(data = {'feature' : features.columns, 'value' : modellgbm.feature_importances_})\nf_lgbm = f_lgbm.sort_values(['value'], ascending = False)\ntop10lgbm = f_lgbm.head(10)\nplt.figure(figsize=(15,8))\nsns.barplot(x = top10lgbm[\"feature\"], y = top10lgbm[\"value\"])",
      "execution_count": null,
      "outputs": []
    },
    {
      "metadata": {
        "_uuid": "c72d88bc1e35753bb8f976cb811d665bdf9c5c98"
      },
      "cell_type": "markdown",
      "source": "*Therefore, it can be observed that different algorithms give different Feature Importance Scores.*"
    },
    {
      "metadata": {
        "_uuid": "5424b6386960baa06979a87e5daf6a8e8134f42c"
      },
      "cell_type": "markdown",
      "source": "**The 2 new features that were created in the begining are prominent for both, XGBoost and LGBM** <br>\n**Infact, feature *\"Result\"*(as expected) is the most prominent and feature *\"Total Set Pieces\"* is also dominating**"
    },
    {
      "metadata": {
        "trusted": true,
        "collapsed": true,
        "_uuid": "7c61baf9e961d28bd083bb1597961b89edd15344"
      },
      "cell_type": "markdown",
      "source": "*As I have used 2 boosting algorithms, I'll further use Extra Trees Classifier provided by sci-kit learn to obtain feature importance.*"
    },
    {
      "metadata": {
        "trusted": true,
        "_uuid": "0fc70dfa75edc5e36cb9583e1d7841ebd32ee574"
      },
      "cell_type": "code",
      "source": "modeletc = ExtraTreesClassifier()\nmodeletc.fit(features, target)\n\nprint(modeletc.feature_importances_)",
      "execution_count": null,
      "outputs": []
    },
    {
      "metadata": {
        "trusted": true,
        "_uuid": "1fac3ee52d3686e79bf40da52fac2838fd5eb1e9"
      },
      "cell_type": "code",
      "source": "f_etc = pd.DataFrame(data = {'feature' : features.columns, 'value' : modeletc.feature_importances_})\nf_etc = f_etc.sort_values(['value'], ascending = False)\ntop10etc = f_etc.head(10)\nplt.figure(figsize=(15,8))\nsns.barplot(x = top10etc[\"feature\"], y = top10etc[\"value\"])",
      "execution_count": null,
      "outputs": []
    },
    {
      "metadata": {
        "_uuid": "3d7f48143220db457c849779dd736584f23ea8e9"
      },
      "cell_type": "markdown",
      "source": "**Again, feature *Result* is the most dominant feature.**"
    },
    {
      "metadata": {
        "_uuid": "324da25f89b3c17a9a2dd168d1f33fe6854c1e3d"
      },
      "cell_type": "markdown",
      "source": "> # Now, based on these 3 algorithms, I will select top 5 features for training and prediction"
    },
    {
      "metadata": {
        "_uuid": "72696f0fed1fa55bddc52f2ad7d7a860e9c5aed2"
      },
      "cell_type": "markdown",
      "source": "Using intersection, I'll select all the features that are prevalent in all the three models."
    },
    {
      "metadata": {
        "trusted": true,
        "_uuid": "829af2288a80e3de9cd33b47eb3c5c958f6470b1"
      },
      "cell_type": "code",
      "source": "ft = pd.merge(f_xgb, f_lgbm, how = 'inner', on = [\"feature\"])\nft = pd.merge(ft, f_etc, how = 'inner', on = [\"feature\"])",
      "execution_count": null,
      "outputs": []
    },
    {
      "metadata": {
        "_uuid": "1a4f0740a82e0082f9a0373dc9cb3775c1d56155"
      },
      "cell_type": "markdown",
      "source": "> Merging all the 3 feature importance dataframes, we get a comprehensive account of important features"
    },
    {
      "metadata": {
        "trusted": true,
        "_uuid": "66b4bb95bd2945517c8aaeea2068dfa00a861631"
      },
      "cell_type": "code",
      "source": "ft.head(5)",
      "execution_count": null,
      "outputs": []
    },
    {
      "metadata": {
        "_uuid": "e7ffae9901d5fefefdd85be8f503fd66147730b0"
      },
      "cell_type": "markdown",
      "source": "Therefore, top 5 features are:\n1. Result\n2. Off-Target\n3. 1st Goal\n4. Corners\n5. Team\n\nNow, I'll use these features to train data and predict the target."
    },
    {
      "metadata": {
        "trusted": true,
        "_uuid": "cdbca93f5989ce284791a90fc421f4af99a9cc87"
      },
      "cell_type": "code",
      "source": "features = ft[\"feature\"].head(5).values\nX = data[features]\nY = target.values",
      "execution_count": null,
      "outputs": []
    },
    {
      "metadata": {
        "trusted": true,
        "_uuid": "fbd39d6980898335de0af591962289408e919185"
      },
      "cell_type": "code",
      "source": "X_train, X_test, y_train, y_test = train_test_split(X, Y, test_size=0.3, random_state = 7)",
      "execution_count": null,
      "outputs": []
    },
    {
      "metadata": {
        "_uuid": "3f98ecf32fddee26253257dd8b567b2061fb605e"
      },
      "cell_type": "markdown",
      "source": "**I am experimenting with Simple SVM (RBF Kernel), Linear Regression and Random Forests.**"
    },
    {
      "metadata": {
        "_uuid": "03ea3044284ab9fab32f4a704b2291319455b68a"
      },
      "cell_type": "markdown",
      "source": "# Training and Classification"
    },
    {
      "metadata": {
        "_uuid": "f0f3c80a1674530088d133739edb6c1624496102"
      },
      "cell_type": "markdown",
      "source": "> # Support Vector Machine (Radial Basis Function)"
    },
    {
      "metadata": {
        "trusted": true,
        "_uuid": "0215ee3b92ef33570f5736a6a7e87e2ad664258e"
      },
      "cell_type": "code",
      "source": "modelsvc = svm.SVC(kernel = 'rbf', gamma='auto')\nmodelsvc.fit(X_train, y_train)\ny_svc = modelsvc.predict(X_test)\naccuracy_score(y_test, y_svc)",
      "execution_count": null,
      "outputs": []
    },
    {
      "metadata": {
        "_uuid": "3427a48235846b30864b234d8461b472e6b10cae"
      },
      "cell_type": "markdown",
      "source": "We obtain 66% accuracy using SVM."
    },
    {
      "metadata": {
        "_uuid": "4ad66b14ed4f35848f107074877f16a6ceb6c4b5"
      },
      "cell_type": "markdown",
      "source": "> # Logistic Regression"
    },
    {
      "metadata": {
        "trusted": true,
        "_uuid": "fc5aa5264d85485bad0fb57cb556fd3beb16cac6"
      },
      "cell_type": "code",
      "source": "modelreg = linear_model.LogisticRegression()\nmodelreg.fit(X_train, y_train)\ny_reg = modelreg.predict(X_test)\naccuracy_score(y_test, y_reg.round(), normalize = False)",
      "execution_count": null,
      "outputs": []
    },
    {
      "metadata": {
        "_uuid": "03b491a87a5c86e4d4afe064406edcd589a71b6a"
      },
      "cell_type": "markdown",
      "source": "We obtain 34% accuracy using Logistic Regression Model. "
    },
    {
      "metadata": {
        "_uuid": "8dfbe7ea57196dc525e37af58c98e5989276f4b9"
      },
      "cell_type": "markdown",
      "source": "> # Random Forests Classifier"
    },
    {
      "metadata": {
        "trusted": true,
        "_uuid": "7793110b17fa7580edeaf3f593cb5a8bd5dcef36"
      },
      "cell_type": "code",
      "source": "modelrf = RandomForestClassifier(max_depth=2, random_state=0)\nmodelrf.fit(X_train, y_train)\ny_rf = modelrf.predict(X_test)\naccuracy_score(y_test, y_rf)",
      "execution_count": null,
      "outputs": []
    },
    {
      "metadata": {
        "_uuid": "49bafc84a2f3eda87cb39c6894efea2c9890dd2f"
      },
      "cell_type": "markdown",
      "source": "We obtain 84% accuracy using Random Forests Classifier. "
    },
    {
      "metadata": {
        "_uuid": "ec91656e555e83c6d073f290ab2577eda9dcbcb6"
      },
      "cell_type": "markdown",
      "source": "***Therefore, for this case, Random Forests Classifier prove to be the best classifier algorithm.***"
    },
    {
      "metadata": {
        "_uuid": "c5d67ac6e7deadee89bbc9e34886c6332e97b157"
      },
      "cell_type": "markdown",
      "source": "# This is my first attempt to work on a data science and machine learning problem so please share your views and comments regarding this kernel so that I can improve my work. <br>\n# A big thank you for taking out time and efforts to read through the entire kernel."
    },
    {
      "metadata": {
        "trusted": true,
        "collapsed": true,
        "_uuid": "594c581fd741887c1ab0f9490a7a7b00573a3e83"
      },
      "cell_type": "code",
      "source": "",
      "execution_count": null,
      "outputs": []
    }
  ],
  "metadata": {
    "kernelspec": {
      "display_name": "Python 3",
      "language": "python",
      "name": "python3"
    },
    "language_info": {
      "name": "python",
      "version": "3.6.6",
      "mimetype": "text/x-python",
      "codemirror_mode": {
        "name": "ipython",
        "version": 3
      },
      "pygments_lexer": "ipython3",
      "nbconvert_exporter": "python",
      "file_extension": ".py"
    }
  },
  "nbformat": 4,
  "nbformat_minor": 1
}